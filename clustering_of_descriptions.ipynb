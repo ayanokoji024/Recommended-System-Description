{
 "nbformat": 4,
 "nbformat_minor": 0,
 "metadata": {
  "colab": {
   "provenance": [],
   "collapsed_sections": [
    "7dzfbm7tw1YJ"
   ],
   "gpuType": "T4",
   "mount_file_id": "1Zin3TuHLmuOAkQ5OkcqRmRT8xRfoE2a4",
   "authorship_tag": "ABX9TyMbPI+tkxF6Sx9HTCoIuAm5",
   "include_colab_link": true
  },
  "kernelspec": {
   "name": "python3",
   "display_name": "Python 3"
  },
  "language_info": {
   "name": "python"
  },
  "accelerator": "GPU",
  "gpuClass": "standard"
 },
 "cells": [
  {
   "cell_type": "code",
   "execution_count": 3,
   "outputs": [
    {
     "name": "stdout",
     "output_type": "stream",
     "text": [
      "                                      items_Description\n",
      "0     CORSAIR Vengeance RGB Pro 16GB (2 x 8GB) 288-P...\n",
      "1     Kingston 16GB (2 x 8GB) 240-Pin DDR3 SDRAM DDR...\n",
      "2     CORSAIR Vengeance LPX 32GB (4 x 8GB) 288-Pin D...\n",
      "3     CORSAIR Vengeance LPX 128GB (4 x 32GB) 288-Pin...\n",
      "4     AMD Ryzen Threadripper 3990X 64-Core 2.9 GHz S...\n",
      "...                                                 ...\n",
      "2700  EVGA SuperNOVA 1000 T2 220-T2-1000-X1 80+ TITA...\n",
      "2701  Thermaltake TR2 TR-600 600W ATX12V v2.3 SLI Re...\n",
      "2702  EVGA SuperNOVA 650 P2 220-P2-0650-X1 80+ PLATI...\n",
      "2703  EVGA SuperNOVA 850 PQ, 80 Plus PLATINUM 850W, ...\n",
      "2704  Thermaltake Toughpower PS-TPD-0850MPCGUS-1 850...\n",
      "\n",
      "[2705 rows x 1 columns]\n"
     ]
    }
   ],
   "source": [
    "import numpy as np\n",
    "import spacy\n",
    "import pandas as pd\n",
    "\n",
    "file = pd.read_csv('newegg.csv')\n",
    "df_description = pd.DataFrame(data=file, columns=['brand_name','items_Description','ratings','prices','Category'])\n",
    "# print(df_description.items_Description)\n",
    "nlp = spacy.load(\"en_core_web_md\")\n",
    "tuple_sentences = tuple(df_description['items_Description'])\n",
    "sentence_vectors = [nlp(sentence).vector for sentence in tuple_sentences]\n",
    "df_description.drop(columns=['brand_name','ratings','prices','Category'],axis=1,inplace=True)\n",
    "print(df_description)"
   ],
   "metadata": {
    "collapsed": false
   }
  },
  {
   "cell_type": "code",
   "execution_count": 4,
   "outputs": [
    {
     "name": "stdout",
     "output_type": "stream",
     "text": [
      "2705\n"
     ]
    }
   ],
   "source": [
    "print(len(sentence_vectors))"
   ],
   "metadata": {
    "collapsed": false
   }
  },
  {
   "cell_type": "code",
   "execution_count": 5,
   "outputs": [
    {
     "name": "stdout",
     "output_type": "stream",
     "text": [
      "Indices of Closest Data Points: [1809 1483 1846   53 2019]\n",
      "Lenovo 60G1MAR2US ThinkVision T2054p\n",
      "\n",
      "Lenovo ThinkVision T1714p 60FELAR1US UPS Battery\n",
      "\n",
      "Lenovo ThinkVision Monitor 61ABMAR1US Monitor\n",
      "\n",
      "Intel Xeon Gold 6234 8Core 3.30GHz Processor LGA-3647 OEM/4 Pack CD8069504283304\n",
      "\n",
      "DELL ENTERPRISE ACCESSORIES 400-ATJG 6GBPS 2.5IN 7200RPM SERIAL ATA\n",
      "\n"
     ]
    }
   ],
   "source": [
    "import numpy as np\n",
    "from sklearn.cluster import KMeans\n",
    "from sklearn.metrics import pairwise_distances_argmin_min\n",
    "\n",
    "# Number of clusters\n",
    "num_clusters = 7\n",
    "sentence_vectors = np.array(sentence_vectors).reshape(2705,300,)\n",
    "# Perform K-means clustering\n",
    "kmeans = KMeans(n_clusters=num_clusters)\n",
    "kmeans.fit(sentence_vectors)\n",
    "\n",
    "#Test the string you want to\n",
    "#First vectorize using spacy\n",
    "#use kmeans.predict to test that vectorized description\n",
    "\n",
    "string = \"\" #from the product page\n",
    "num_of_neighbours = 5\n",
    "test_data = []\n",
    "string_vectorized = nlp(string).vector\n",
    "test_data.append(string_vectorized)\n",
    "test_data = np.array(test_data)\n",
    "test_cluster = kmeans.predict(test_data.reshape(1,-1))\n",
    "\n",
    "\n",
    "# Get the indices of data points in the same cluster\n",
    "cluster_indices = np.where(kmeans.labels_ == test_cluster)[0]\n",
    "\n",
    "# Calculate distances between the test data point and all data points in the cluster\n",
    "distances = np.linalg.norm(sentence_vectors[cluster_indices] - test_data, axis=1)\n",
    "\n",
    "# Find the closest data points (nearest neighbors)\n",
    "closest_indices = cluster_indices[np.argsort(distances)[:num_of_neighbours]]\n",
    "\n",
    "# Print the indices of the closest data points\n",
    "print(\"Indices of Closest Data Points:\", closest_indices)\n",
    "\n",
    "for i in closest_indices:\n",
    "    print(df_description.iloc[i]['items_Description'] + '\\n')"
   ],
   "metadata": {
    "collapsed": false
   }
  }
 ]
}
